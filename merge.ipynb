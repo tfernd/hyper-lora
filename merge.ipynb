{
 "cells": [
  {
   "attachments": {},
   "cell_type": "markdown",
   "metadata": {},
   "source": [
    "# Hyper-Merge: Advanced Weight Merging for Stable-Diffusion"
   ]
  },
  {
   "attachments": {},
   "cell_type": "markdown",
   "metadata": {},
   "source": [
    "Import required modules."
   ]
  },
  {
   "cell_type": "code",
   "execution_count": null,
   "metadata": {},
   "outputs": [],
   "source": [
    "%load_ext autoreload\n",
    "%autoreload 2"
   ]
  },
  {
   "cell_type": "code",
   "execution_count": null,
   "metadata": {},
   "outputs": [],
   "source": [
    "from pathlib import Path\n",
    "from tqdm.auto import tqdm\n",
    "\n",
    "import torch\n",
    "\n",
    "from hyper_merge.checkpoint import load_ckpt, save_ckpt\n",
    "from hyper_merge.models import make_model_average, make_diff_model, make_hyper_model\n",
    "from hyper_merge.lora import make_lora"
   ]
  },
  {
   "attachments": {},
   "cell_type": "markdown",
   "metadata": {},
   "source": [
    "## ⚙️ Setup Environment Configuration ⚙️\n",
    "\n",
    "Define the `device` and `dtype` for PyTorch computations."
   ]
  },
  {
   "cell_type": "code",
   "execution_count": null,
   "metadata": {},
   "outputs": [],
   "source": [
    "device = torch.device('cuda')\n",
    "dtype = torch.float16"
   ]
  },
  {
   "attachments": {},
   "cell_type": "markdown",
   "metadata": {},
   "source": [
    "## 📦 Load Pre-trained Models 📦\n",
    "\n",
    "Specify the paths to your models here."
   ]
  },
  {
   "cell_type": "code",
   "execution_count": null,
   "metadata": {},
   "outputs": [],
   "source": [
    "models_paths = [\n",
    "    # TODO add your models paths here!\n",
    "]\n",
    "\n",
    "models = [load_ckpt(path, dtype=dtype) for path in tqdm(models_paths, desc='Loading models')]"
   ]
  },
  {
   "attachments": {},
   "cell_type": "markdown",
   "metadata": {},
   "source": [
    "## 🌐 Create an Average Model 🌐\n"
   ]
  },
  {
   "cell_type": "code",
   "execution_count": null,
   "metadata": {},
   "outputs": [],
   "source": [
    "avg_model_path = Path('models/avg-model.safetensors')\n",
    "\n",
    "# Check if average model already exists. If not, create one\n",
    "if not avg_model_path.exists():\n",
    "    avg_model = make_model_average(models, dtype=dtype, device=device)\n",
    "    save_ckpt(avg_model, avg_model_path)\n",
    "\n",
    "# Load the average model into GPU\n",
    "avg_model = load_ckpt(avg_model_path, dtype=dtype) "
   ]
  },
  {
   "attachments": {},
   "cell_type": "markdown",
   "metadata": {},
   "source": [
    "# 🧬 Create the Hyper-Merged Model 🧬"
   ]
  },
  {
   "cell_type": "code",
   "execution_count": null,
   "metadata": {},
   "outputs": [],
   "source": [
    "diff_model_path = Path('models/diff-model.safetensors')\n",
    "lambda_path = Path('models/lambda.pt')\n",
    "\n",
    "# Check if the differential model exists. If not, create one\n",
    "if not diff_model_path.exists():\n",
    "    diff_model, λ = make_diff_model(models, device, dtype, iterations=14)\n",
    "    save_ckpt(diff_model, diff_model_path)\n",
    "\n",
    "    torch.save(λ, lambda_path)\n",
    "\n",
    "diff_model = load_ckpt(diff_model_path, dtype=dtype, device=device) # Load into GPU\n",
    "λ = torch.load(lambda_path, map_location=device)"
   ]
  },
  {
   "attachments": {},
   "cell_type": "markdown",
   "metadata": {},
   "source": [
    "## 🔍 Visualize the Multipliers (λ) 🔍\n"
   ]
  },
  {
   "cell_type": "code",
   "execution_count": null,
   "metadata": {},
   "outputs": [],
   "source": [
    "print(λ)"
   ]
  },
  {
   "attachments": {},
   "cell_type": "markdown",
   "metadata": {},
   "source": [
    "## Create a LoRA from the differential weights"
   ]
  },
  {
   "cell_type": "code",
   "execution_count": null,
   "metadata": {},
   "outputs": [],
   "source": [
    "lora_path = Path('models/hyper-lora.safetensors')\n",
    "lora = make_lora(diff_model, rank=64)\n",
    "\n",
    "save_ckpt(lora, lora_path)"
   ]
  },
  {
   "attachments": {},
   "cell_type": "markdown",
   "metadata": {},
   "source": [
    "## 🌟 Generate Super Models 🌟\n",
    "\n",
    "Create hyper-models using the lambda multipliers"
   ]
  },
  {
   "cell_type": "code",
   "execution_count": null,
   "metadata": {},
   "outputs": [],
   "source": [
    "# Create hyper-models from the multipliers to give closest match to the real model\n",
    "for multiplier, model_path in tqdm(list(zip(λ, models_paths))):\n",
    "    hyper_model = make_hyper_model(avg_model, diff_model, multiplier, device, dtype)\n",
    "\n",
    "    name = Path(model_path).stem\n",
    "    hyper_model_path = Path(f'models/hyper-model_({name})_[{multiplier}].safetensors')\n",
    "    save_ckpt(hyper_model, hyper_model_path)"
   ]
  },
  {
   "attachments": {},
   "cell_type": "markdown",
   "metadata": {},
   "source": [
    "## 🎯 Use a Specific Multiplier 🎯\n"
   ]
  },
  {
   "cell_type": "code",
   "execution_count": null,
   "metadata": {},
   "outputs": [],
   "source": [
    "multiplier = 1 # Define your specific multiplier here\n",
    "\n",
    "hyper_model = make_hyper_model(avg_model, diff_model, multiplier, device, dtype)\n",
    "\n",
    "hyper_model_path = Path(f'models/hyper-model_{multiplier}.safetensors')\n",
    "save_ckpt(hyper_model, hyper_model_path)\n",
    "\n",
    "multiplier += 1/4"
   ]
  }
 ],
 "metadata": {
  "kernelspec": {
   "display_name": "torch",
   "language": "python",
   "name": "python3"
  },
  "language_info": {
   "codemirror_mode": {
    "name": "ipython",
    "version": 3
   },
   "file_extension": ".py",
   "mimetype": "text/x-python",
   "name": "python",
   "nbconvert_exporter": "python",
   "pygments_lexer": "ipython3",
   "version": "3.10.11"
  },
  "orig_nbformat": 4
 },
 "nbformat": 4,
 "nbformat_minor": 2
}
